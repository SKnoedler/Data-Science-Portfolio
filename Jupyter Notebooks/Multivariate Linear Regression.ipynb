{
 "cells": [
  {
   "cell_type": "code",
   "execution_count": 19,
   "metadata": {},
   "outputs": [],
   "source": [
    "# Import libraries for all 10 Exercises\n",
    "from math import sqrt\n",
    "import numpy as np\n",
    "import matplotlib\n",
    "import matplotlib.pyplot as plt\n",
    "from sklearn.linear_model import LinearRegression"
   ]
  },
  {
   "cell_type": "code",
   "execution_count": 20,
   "metadata": {},
   "outputs": [
    {
     "name": "stdout",
     "output_type": "stream",
     "text": [
      "\t\n"
     ]
    }
   ],
   "source": [
    "#Implement linear regression\n",
    "\n",
    "def multivarlinreg(x, y):\n",
    "    w0 = np.concatenate([np.ones((len(x), 1)), x], 1)\n",
    "    w = np.dot(np.dot(np.matrix(np.dot(w0.T,w0)).I, w0.T), y)\n",
    "    f = (np.dot(w0, np.matrix(w.T))).T\n",
    "    return w, f\n",
    "print('\\t')"
   ]
  },
  {
   "cell_type": "code",
   "execution_count": 21,
   "metadata": {},
   "outputs": [],
   "source": [
    "#Run your regression function only on fixed acidity feature\n",
    "#load data from two text files\n",
    "datatrain = np.loadtxt('redwine_training.txt')\n",
    "datatest = np.loadtxt('redwine_testing.txt')\n",
    "\n",
    "#define traindata (input variables & quality score)\n",
    "wine_train_input = datatrain[:, :-1] #variables\n",
    "wine_train_output = datatrain[:, -1] #quality\n",
    "\n",
    "wine_test_input = datatest[:, :-1] #variables\n",
    "wine_test_output = datatest[:, -1] #quality"
   ]
  },
  {
   "cell_type": "code",
   "execution_count": 22,
   "metadata": {},
   "outputs": [],
   "source": [
    "#Run your regression function only on fixed acidity feature')\n",
    "datatrain = np.loadtxt('redwine_training.txt')\n",
    "x_acid = datatrain[:, 0]\n",
    "y = datatrain[:, -1]"
   ]
  },
  {
   "cell_type": "code",
   "execution_count": 23,
   "metadata": {},
   "outputs": [
    {
     "name": "stdout",
     "output_type": "stream",
     "text": [
      "Parameters w0 and w1 for only feature fixed aciditity:  [[5.2057261  0.05035934]]\n",
      "\t\n"
     ]
    }
   ],
   "source": [
    "coef_acid = multivarlinreg(wine_train_input[:,:1], wine_train_output)[0]\n",
    "print('Parameters w0 and w1 for only feature fixed aciditity: ', coef_acid)\n",
    "print('\\t')"
   ]
  },
  {
   "cell_type": "code",
   "execution_count": 24,
   "metadata": {},
   "outputs": [
    {
     "name": "stdout",
     "output_type": "stream",
     "text": [
      "Parameters wi for all the features:  [[ 5.16573717e+01  1.95852727e-02 -1.06193618e+00  2.58896285e-02\n",
      "   5.02281634e-02 -2.75489463e+00  5.65346092e-03 -3.80728880e-03\n",
      "  -4.72092423e+01 -4.26639379e-01  8.50478130e-01  2.37895900e-01]]\n",
      "\t\n",
      "\t\n"
     ]
    }
   ],
   "source": [
    "#Run your regression function on all the features')\n",
    "x = datatrain[:, :-1]\n",
    "coef = multivarlinreg(wine_train_input, wine_train_output)[0]\n",
    "print('Parameters wi for all the features: ', coef)\n",
    "print('\\t')\n",
    "print('\\t')"
   ]
  },
  {
   "cell_type": "code",
   "execution_count": 25,
   "metadata": {},
   "outputs": [],
   "source": [
    "#Evaluating Linear Regression\n",
    "\n",
    "w0 = 5.2057261\n",
    "w1 = 0.05035934\n",
    "\n",
    "def predict(x):\n",
    "    y_pred = []\n",
    "    for i in x:\n",
    "        y_pred.append(w0 + w1 * i)\n",
    "    return y_pred\n",
    "f = predict(x_acid)"
   ]
  },
  {
   "cell_type": "code",
   "execution_count": 26,
   "metadata": {},
   "outputs": [],
   "source": [
    "# Calculate root mean squared error\n",
    "def rmse(f, t):\n",
    "    sum_error = 0.0\n",
    "    for i in range(len(t)):\n",
    "        prediction_error = f[i] - t[i]\n",
    "        sum_error += (prediction_error ** 2)\n",
    "    mean_error = sum_error / float(len(t))\n",
    "    return sqrt(mean_error)"
   ]
  },
  {
   "cell_type": "code",
   "execution_count": 27,
   "metadata": {},
   "outputs": [
    {
     "name": "stdout",
     "output_type": "stream",
     "text": [
      "0.7992035623401662\n"
     ]
    }
   ],
   "source": [
    "t = datatest[:, -1]\n",
    "rmse1 = rmse(f, t)\n",
    "print(rmse1)"
   ]
  },
  {
   "cell_type": "code",
   "execution_count": null,
   "metadata": {},
   "outputs": [],
   "source": []
  },
  {
   "cell_type": "code",
   "execution_count": null,
   "metadata": {},
   "outputs": [],
   "source": []
  }
 ],
 "metadata": {
  "kernelspec": {
   "display_name": "Python 3",
   "language": "python",
   "name": "python3"
  },
  "language_info": {
   "codemirror_mode": {
    "name": "ipython",
    "version": 3
   },
   "file_extension": ".py",
   "mimetype": "text/x-python",
   "name": "python",
   "nbconvert_exporter": "python",
   "pygments_lexer": "ipython3",
   "version": "3.7.1"
  }
 },
 "nbformat": 4,
 "nbformat_minor": 2
}
