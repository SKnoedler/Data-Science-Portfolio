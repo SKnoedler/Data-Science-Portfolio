{
 "cells": [
  {
   "cell_type": "code",
   "execution_count": 2,
   "metadata": {},
   "outputs": [],
   "source": [
    "#import libaries\n",
    "import numpy as np\n",
    "import pandas as pd\n",
    "from sklearn.preprocessing import StandardScaler\n",
    "from sklearn.decomposition import PCA\n",
    "import matplotlib.pyplot as plt\n",
    "from sklearn.preprocessing import scale\n",
    "from sklearn import manifold\n",
    "from sklearn.manifold import MDS\n",
    "from sklearn.metrics import pairwise_distances\n",
    "from sklearn.cluster import KMeans\n",
    "from scipy.spatial.distance import cdist"
   ]
  },
  {
   "cell_type": "code",
   "execution_count": 3,
   "metadata": {},
   "outputs": [],
   "source": [
    "#load data\n",
    "dataTrain = np.loadtxt('IDSWeedCropTrain.csv', delimiter=',')\n",
    "#define input variables (labels to be predicted - so not needed here)\n",
    "x_train = dataTrain[:, :-1]\n",
    "\n",
    "sc = StandardScaler()\n",
    "x_train_std = sc.fit_transform(x_train)"
   ]
  },
  {
   "cell_type": "code",
   "execution_count": 4,
   "metadata": {},
   "outputs": [
    {
     "name": "stdout",
     "output_type": "stream",
     "text": [
      "Two Cluster Centers:  [[5.69426752e+00 4.93800425e+01 7.91594480e+02 3.84771338e+03\n",
      "  3.38588535e+03 1.35988535e+03 2.93734607e+02 1.31609342e+02\n",
      "  7.07282378e+01 3.96433121e+01 1.94437367e+01 4.23566879e+00\n",
      "  4.41613588e-01]\n",
      " [2.19092628e+00 1.37315690e+01 1.70943289e+02 1.39436484e+03\n",
      "  3.18853497e+03 2.62461815e+03 1.00372023e+03 6.32814745e+02\n",
      "  4.95829868e+02 2.95400756e+02 1.45809074e+02 2.91984877e+01\n",
      "  2.83742911e+00]]\n"
     ]
    }
   ],
   "source": [
    "#define starting point\n",
    "startingPoint = np.vstack((x_train[0,], x_train[1,]))\n",
    "#initialize kmeans and fitting the inputs\n",
    "kmeans = KMeans(n_clusters=2, algorithm='full', n_init=1, init=startingPoint).fit(x_train)\n",
    "# getting cluster centers\n",
    "centroids = kmeans.cluster_centers_\n",
    "print('Two Cluster Centers: ', centroids)"
   ]
  },
  {
   "cell_type": "code",
   "execution_count": 5,
   "metadata": {},
   "outputs": [
    {
     "name": "stdout",
     "output_type": "stream",
     "text": [
      "Two Cluster Centers:  [[ 0.10697804  0.15743643  0.24443175  0.42630232  0.36461238 -0.28733807\n",
      "  -0.48392646 -0.52535925 -0.49566457 -0.43337993 -0.37703005 -0.26288248\n",
      "  -0.17762998]\n",
      " [-0.26064409 -0.38358222 -0.59553991 -1.03865412 -0.88835112  0.70007797\n",
      "   1.17905107  1.27999901  1.20765011  1.05589819  0.91860586  0.64049373\n",
      "   0.43278231]]\n"
     ]
    }
   ],
   "source": [
    "#define starting point\n",
    "startingPoint = np.vstack((x_train_std[0,], x_train_std[1,]))\n",
    "#initialize kmeans and fitting the inputs\n",
    "kmeans = KMeans(n_clusters=2, algorithm='full', n_init=1, init=startingPoint).fit(x_train_std)\n",
    "# getting cluster centers\n",
    "centroids = kmeans.cluster_centers_\n",
    "print('Two Cluster Centers: ', centroids)"
   ]
  },
  {
   "cell_type": "code",
   "execution_count": null,
   "metadata": {},
   "outputs": [],
   "source": []
  }
 ],
 "metadata": {
  "kernelspec": {
   "display_name": "Python 3",
   "language": "python",
   "name": "python3"
  },
  "language_info": {
   "codemirror_mode": {
    "name": "ipython",
    "version": 3
   },
   "file_extension": ".py",
   "mimetype": "text/x-python",
   "name": "python",
   "nbconvert_exporter": "python",
   "pygments_lexer": "ipython3",
   "version": "3.7.1"
  }
 },
 "nbformat": 4,
 "nbformat_minor": 2
}
