{
 "cells": [
  {
   "cell_type": "markdown",
   "metadata": {},
   "source": [
    "# Statistics & Visualization in Python\n",
    "## Does smoking affect your lung capacity?\n",
    "\n",
    "It is well known that smoking is not good for your health, but how can we quantify this in\n",
    "a statistical way? In this assignment you will work with a dataset consisting of information\n",
    "on the lung function, smoking status and demographics of 654 youth and children aged 3-19.\n",
    "See the Appendix A below for a detiled description of the data material, and see in particular\n",
    "Appendix B below for a description of the so-called FEV1 measure, which quantifies lung\n",
    "function\n",
    "\n",
    "### Exercise 1\n",
    "a)\tRead the data from the file smoking.txt, and divide the dataset into two groups consisting of smokers and non-smokers. "
   ]
  },
  {
   "cell_type": "code",
   "execution_count": 4,
   "metadata": {},
   "outputs": [],
   "source": [
    "#Import libaries\n",
    "import numpy as np\n",
    "import matplotlib.pyplot as plt\n",
    "from scipy import stats\n",
    "from math import sqrt\n",
    "from scipy.stats import t\n",
    "\n",
    "#Import the dataset\n",
    "data = np.loadtxt('smoking.txt')"
   ]
  },
  {
   "cell_type": "code",
   "execution_count": 7,
   "metadata": {},
   "outputs": [],
   "source": [
    "# divide the dataset into two groups consisting of smokers and non-smokers\n",
    "smoker = data[data[:,4] == 1] # select rows where fifith column = 0\n",
    "nonsmoker = data[data[:,4] == 0] # select rows where fifith column = 1"
   ]
  },
  {
   "cell_type": "markdown",
   "metadata": {},
   "source": [
    "b)\tReport your computed average FEV1 scores. Are you surprised?"
   ]
  },
  {
   "cell_type": "code",
   "execution_count": 11,
   "metadata": {},
   "outputs": [
    {
     "name": "stdout",
     "output_type": "stream",
     "text": [
      "Mean of FEV1-Smoker: 3.2768615384615383\n",
      "Mean of FEV1-NonSmoker: 2.5661426146010187\n",
      "\t\n",
      "Yes, I was surprised to see this as I did not expect that the average lung function of the smokers is higher than the average lung function of non-smokers.\n"
     ]
    }
   ],
   "source": [
    "#Computing the average lungfunction, measured in FEV1, among the smokers and among the non-smokers\n",
    "smoker_mean = np.mean(smoker[:,1])\n",
    "non_smoker_mean = np.mean(nonsmoker[:,1])\n",
    "print('Mean of FEV1-Smoker:', smoker_mean)\n",
    "print('Mean of FEV1-NonSmoker:', non_smoker_mean)\n",
    "print('\\t')\n",
    "print('Yes, I was surprised to see this as I did not expect that the average lung function of the smokers is higher than the average lung function of non-smokers.')"
   ]
  },
  {
   "cell_type": "markdown",
   "metadata": {},
   "source": [
    "## Exercise 2 (Boxplot)\n",
    "a) Make a box plot of the FEV1 in the two groups. What do you see?\n",
    "Are you surprised?"
   ]
  },
  {
   "cell_type": "code",
   "execution_count": 12,
   "metadata": {},
   "outputs": [
    {
     "data": {
      "image/png": "[encoded data removed]",
      "text/plain": [
       "<Figure size 432x288 with 1 Axes>"
      ]
     },
     "metadata": {
      "needs_background": "light"
     },
     "output_type": "display_data"
    }
   ],
   "source": [
    "#Make a box plot of the FEV1 in the two groups.\n",
    "FEV1data = (smoker[:,1]), (nonsmoker[:,1])\n",
    "labels = ['Smokers', 'Non-Smokers']\n",
    "plt.boxplot(FEV1data, labels=labels)\n",
    "plt.ylabel('FEV1')\n",
    "plt.title('Comparison of Smokers and Non-Smokers FEV1 value')\n",
    "plt.show()"
   ]
  },
  {
   "cell_type": "markdown",
   "metadata": {},
   "source": [
    "The boxplot shows that the non-smoker group has outliers, whereas the smoker group does not have outliers. The outliers, which are values that are far away of other data values, are located on the top and therefore show that some FEV1 values are considerably greater in the non-smoker group. When we look at the non-smoker boxplot, we can also observe that the quartile group 4 is relatively long. This suggests that the FEV1 values above the upper quartile are very diverse. Considered as a whole, the boxplots show that the FEV1 values of the non-smoker group are much more diverse than the FEV1 values of the smoker group. It is surprising to see that the FEV1 values of the non-smoker group vary much more than the once of the smoker group. This should lead to more investigation and a further analysis of the two different groups."
   ]
  },
  {
   "cell_type": "markdown",
   "metadata": {},
   "source": [
    "## Exercise 3 (Hypothesis Testing)\n",
    "Next we will perform a hypothesis test to investigate the difference between the FEV1 level in the two populations smokers and non-smokers.\n",
    "\n",
    "a)\tBased on the supplied template hyptest.py, write a script that performs a two-sided t-test whose null hypothesis is that the two populations have the same mean. Use a significance level of α = 0.05, and return a binary response indicating acceptance or rejection of the null hypothesis.\n"
   ]
  },
  {
   "cell_type": "code",
   "execution_count": 13,
   "metadata": {},
   "outputs": [
    {
     "name": "stdout",
     "output_type": "stream",
     "text": [
      "H0 = Mean of smokers and non-smokers FEV1 level is the same\n",
      "H1 = Mean of smokers and non-smokers FEV1 level is not the same\n",
      "\n",
      "\n",
      "Number of Smokers: 65\n",
      "Number of Non-Smokers: 589\n",
      "Degree of Freedom: 652\n",
      "Critical t-value: 1.6471940405817662\n",
      "Calculated t-statistic 6.46445317259654\n",
      "p-Value 1.9928459182932803e-10\n",
      "\n",
      "\n",
      "Conclusion:  Reject H0, there is a significant difference in two sample means\n",
      "\n",
      "\n",
      "EXTRA CALCULATIONS/ RESULTS:\n",
      "Smokers FEV1 standard deviation: 0.7441948230635282\n",
      "NonSmokers FEV1 standard deviation: 0.8497992053058739\n",
      "Average standard deviation between Smokers and Non-Smokers FEV1 data: 0.8400209692370695\n",
      "Difference of Smokers FEV1 Mean and NonSmokers FEV1 Mean: 0.7107189238605196\n",
      "Margin of Error: 0.18084622104796208\n",
      "\n",
      "\n"
     ]
    }
   ],
   "source": [
    "\n",
    "print('H0 = Mean of smokers and non-smokers FEV1 level is the same')\n",
    "print('H1 = Mean of smokers and non-smokers FEV1 level is not the same')\n",
    "print('\\n')\n",
    "N1 = len(smoker) #Assign N1 to the Number of Smokers\n",
    "N2 = len(nonsmoker) #Assign N2 to the Number of Non-Smokers\n",
    "print('Number of Smokers:', len(smoker))\n",
    "print('Number of Non-Smokers:', len(nonsmoker))\n",
    "df = (N1 + N2 - 2) #calculating the degree of freedom\n",
    "print ('Degree of Freedom:', df)\n",
    "t_ctlval = t.ppf(0.95, df) #as the significance level is 0.05, the sigma is 0.95\n",
    "print('Critical t-value:', t_ctlval)\n",
    "t_value, p_value = stats.ttest_ind(smoker[:,1], nonsmoker[:,1])\n",
    "print('Calculated t-statistic', t_value)\n",
    "print('p-Value', p_value)\n",
    "if t_value > t_ctlval: h = 'Reject H0, there is a significant difference in two sample means'\n",
    "else: h = 'Reject H1, there is no significant difference in two sample means'\n",
    "print('\\n')\n",
    "print('Conclusion: ',h)\n",
    "print('\\n')\n",
    "#If the calculated t-statistic is greater than the critical t-value, the test concludes that there is a statistically significant difference between the two populations\n",
    "\n",
    "\n",
    "\n",
    "print('EXTRA CALCULATIONS/ RESULTS:')\n",
    "std1 = smoker[:,1].std()\n",
    "std2 = nonsmoker[:,1].std()\n",
    "print('Smokers FEV1 standard deviation:', std1)\n",
    "print('NonSmokers FEV1 standard deviation:',std2)\n",
    "std_N1N2 = sqrt( ((N1 - 1)*(std1)**2 + (N2 - 1)*(std2)**2) / df)\n",
    "print('Average standard deviation between Smokers and Non-Smokers FEV1 data:', std_N1N2)\n",
    "diff_mean = smoker[:,1].mean() - nonsmoker[:,1].mean()\n",
    "print('Difference of Smokers FEV1 Mean and NonSmokers FEV1 Mean:', diff_mean)\n",
    "MoE = t.ppf(0.95, df) * std_N1N2 * sqrt(1/N1 + 1/N2)\n",
    "print('Margin of Error:', MoE)\n",
    "print('\\n')"
   ]
  },
  {
   "cell_type": "markdown",
   "metadata": {},
   "source": [
    "This two-sided t-test investigates on the difference between the FEV1 level in the two \n",
    "populations. We choose a significance level of 5% (0.05). The calculation shows that the \n",
    "absolute value of the t-statistic is greater than the critical t-value and thus, I can reject the null \n",
    "hypothesis. Given the stated hypothesis, the significance level is the value up until a p-value \n",
    "is considered as statistically significant. The p-value is below 0.05 and thus, the result is \n",
    "statistically significant for us. The p-value is almost 0 and hence, it is highly unlikely that that the obtained values would be observed under the null hypothesis (Mean of smokers and non-smokers FEV1 level is the same). Given this test, the observation of the data \n",
    "is highly unlikely with a true null hypothesis.\n",
    "\n",
    "The results of the t-test indicate that the difference between the smokers FEV1 mean and the \n",
    "non-smokers FEV1 mean most likely reflect a true/real difference in the \n",
    "population that got sampled for this test. It is surprising to see that the calculated means are \n",
    "statically significant as I would have expected to observe that the smokers’ average FEV1 is \n",
    "lower than the one of the non-smoker population. However, the means display the real \n",
    "situation in our sample and further analysis is needed to understand why \n",
    "the smokers’ average FEV1 value is higher than the nonsmokers’ average FEV1 value.\n"
   ]
  },
  {
   "cell_type": "markdown",
   "metadata": {},
   "source": [
    "## Exercise 4 (Correlation)\n",
    "Make a 2D plot of age versus FEV1. What do you see? Compute the correlation between age and FEV1. "
   ]
  },
  {
   "cell_type": "code",
   "execution_count": 15,
   "metadata": {},
   "outputs": [
    {
     "data": {
      "image/png": "[encoded data removed]",
      "text/plain": [
       "<Figure size 432x288 with 1 Axes>"
      ]
     },
     "metadata": {},
     "output_type": "display_data"
    },
    {
     "name": "stdout",
     "output_type": "stream",
     "text": [
      "[[1.         0.75645899]\n",
      " [0.75645899 1.        ]]\n",
      "The correlation of age and FEV1 of the whole population is 0.75645899, a positive correlation.\n"
     ]
    }
   ],
   "source": [
    "plt.style.use('ggplot')\n",
    "plt.scatter(data[:,0], data[:,1])\n",
    "plt.xlabel('Age')\n",
    "plt.ylabel('FEV1')\n",
    "plt.title('Correlation of Age and FEV1')\n",
    "plt.show()\n",
    "\n",
    "#Compute the correlation of age versus  FEV1, not of Smoker and Non-Smokers but all people in the dataset\n",
    "Correlation_age_FEV1 = np.corrcoef(data[:,0], data[:,1])\n",
    "print(Correlation_age_FEV1)\n",
    "print('The correlation of age and FEV1 of the whole population is 0.75645899, a positive correlation.')"
   ]
  },
  {
   "cell_type": "markdown",
   "metadata": {},
   "source": [
    "The 2D plot as well as the correlation value show that the FEV1 and Age are positively correlated. This makes sense because young people are still growing and as they become older their lung capacity is growing with a growing and developing lung. However, it also unveils that the FEV1 values get more diverse, the older the person is. It suggests that the older a person is, the more important other values/factors become in regard to the lung capacity FEV1. "
   ]
  },
  {
   "cell_type": "markdown",
   "metadata": {},
   "source": [
    "## Exercise 5 (Histograms)\n",
    "Create a histogram over the age of subjects in each of the two groups smokers and non-smokers. What do you see? Does this explain your results on lung function in the two groups? "
   ]
  },
  {
   "cell_type": "code",
   "execution_count": 17,
   "metadata": {},
   "outputs": [
    {
     "data": {
      "image/png": "[encoded data removed]",
      "text/plain": [
       "<Figure size 432x288 with 1 Axes>"
      ]
     },
     "metadata": {},
     "output_type": "display_data"
    }
   ],
   "source": [
    "Age_smoker = smoker[:,0]\n",
    "Age_nonsmoker = nonsmoker[:,0]\n",
    "bins = np.linspace(0, 22, 45)\n",
    "plt.hist(Age_smoker, bins, alpha=0.8, label='Smoker')\n",
    "plt.hist(Age_nonsmoker, bins, alpha=0.4, label='Non-Smoker')\n",
    "plt.legend(loc='upper right')\n",
    "plt.xlabel('Age')\n",
    "plt.xticks([1, 2, 3, 4, 5, 6, 7, 8, 9, 10, 11, 12, 13, 14, 15, 16, 17, 18, 19, 20])\n",
    "plt.ylabel('Number of people')\n",
    "plt.title('Number of Smokers and NonSmokers at each age')\n",
    "plt.show()"
   ]
  },
  {
   "cell_type": "markdown",
   "metadata": {},
   "source": [
    "The comparison of the histograms that show the age distribution of the two populations illustrate key differences. First, the non-smoker group contain less diverse age levels. Whereas the non-smokers are between 9 and 19 years old, the smokers are between 3 and 19 years old. As we have just analyzed, the age correlates with the lung capacity. When the average age of the smoker populations is considerably higher than the average age of the non-smoker population, it makes sense to observe higher lung capacity levels in the smoker population. This can explain the results of the difference in the average lung function levels. "
   ]
  },
  {
   "cell_type": "code",
   "execution_count": null,
   "metadata": {},
   "outputs": [],
   "source": []
  }
 ],
 "metadata": {
  "kernelspec": {
   "display_name": "Python 3",
   "language": "python",
   "name": "python3"
  },
  "language_info": {
   "codemirror_mode": {
    "name": "ipython",
    "version": 3
   },
   "file_extension": ".py",
   "mimetype": "text/x-python",
   "name": "python",
   "nbconvert_exporter": "python",
   "pygments_lexer": "ipython3",
   "version": "3.7.3"
  }
 },
 "nbformat": 4,
 "nbformat_minor": 2
}
