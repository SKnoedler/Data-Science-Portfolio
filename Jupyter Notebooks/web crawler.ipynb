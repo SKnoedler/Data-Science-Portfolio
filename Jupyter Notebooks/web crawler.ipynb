{
 "cells": [
  {
   "cell_type": "code",
   "execution_count": 26,
   "metadata": {},
   "outputs": [],
   "source": [
    "import requests\n",
    "from bs4 import BeautifulSoup\n",
    "import re\n",
    "import sys \n",
    "import numpy as np\n"
   ]
  },
  {
   "cell_type": "code",
   "execution_count": 83,
   "metadata": {},
   "outputs": [],
   "source": [
    "r = requests.get(\"https://www.stepstone.de/5/ergebnisliste.html?stf=freeText&ns=1&companyid=0&sourceofthesearchfield=resultlistpage:general&qs=[]&ke=data&ra=30&suid=f1446ddf-231b-41da-a9b5-eec3f105ba1d&fci=423362&ag=age_7&li=100&of=100&action=paging_next\")"
   ]
  },
  {
   "cell_type": "code",
   "execution_count": 84,
   "metadata": {},
   "outputs": [],
   "source": [
    "soup = BeautifulSoup(r.text, \"html.parser\")"
   ]
  },
  {
   "cell_type": "code",
   "execution_count": 85,
   "metadata": {},
   "outputs": [],
   "source": [
    "content = soup.select(\".col-lg-9\")"
   ]
  },
  {
   "cell_type": "code",
   "execution_count": 86,
   "metadata": {},
   "outputs": [],
   "source": [
    "\n",
    "for posting in soup.select(\".col-lg-9\"):\n",
    "    title = posting.find_all(\"h2\")\n",
    "    company = posting.find_all(\"div\", attrs={\"class\":\"styles__CompanyName-sc-1ueqno3-8 eKvnqL\"})\n",
    "    #job_postings.append(i.text)\n",
    "    \n",
    "\n",
    "job_title = []\n",
    "company_name = []\n",
    "\n",
    "for x in range(len(title)): \n",
    "    job_title.append(title[x].text)\n",
    "\n",
    "for x in range(len(company)): \n",
    "    company_name.append(company[x].text)\n"
   ]
  },
  {
   "cell_type": "code",
   "execution_count": 87,
   "metadata": {},
   "outputs": [
    {
     "name": "stdout",
     "output_type": "stream",
     "text": [
      "(79, 2)\n"
     ]
    }
   ],
   "source": [
    "Steffen_jobs = list(zip(job_title, company_name))\n",
    "print(np.shape(Steffen_jobs))"
   ]
  },
  {
   "cell_type": "code",
   "execution_count": 88,
   "metadata": {},
   "outputs": [],
   "source": [
    "#pandas comes with numpy\n",
    "import numpy as np\n",
    "import pandas as pd\n",
    "\n",
    "#lets convert that to numpy array\n",
    "jobs1 = np.array(Steffen_jobs)\n"
   ]
  },
  {
   "cell_type": "code",
   "execution_count": 89,
   "metadata": {},
   "outputs": [
    {
     "data": {
      "text/plain": [
       "(79, 2)"
      ]
     },
     "execution_count": 89,
     "metadata": {},
     "output_type": "execute_result"
    }
   ],
   "source": [
    "jobs1.shape"
   ]
  },
  {
   "cell_type": "code",
   "execution_count": 90,
   "metadata": {},
   "outputs": [],
   "source": [
    "#Steffen_job1 = pd.DataFrame(jobs1, columns=['Job','Company'])"
   ]
  },
  {
   "cell_type": "code",
   "execution_count": 91,
   "metadata": {},
   "outputs": [],
   "source": [
    "d = {'Job':job_title,'Company':company_name}\n",
    "df = pd.DataFrame(d)"
   ]
  },
  {
   "cell_type": "code",
   "execution_count": 92,
   "metadata": {},
   "outputs": [],
   "source": [
    "df.to_csv('jobs_steffen_data100(2).csv', sep=';', index=False, encoding='utf-8')"
   ]
  },
  {
   "cell_type": "code",
   "execution_count": null,
   "metadata": {},
   "outputs": [],
   "source": []
  }
 ],
 "metadata": {
  "kernelspec": {
   "display_name": "Python 3",
   "language": "python",
   "name": "python3"
  },
  "language_info": {
   "codemirror_mode": {
    "name": "ipython",
    "version": 3
   },
   "file_extension": ".py",
   "mimetype": "text/x-python",
   "name": "python",
   "nbconvert_exporter": "python",
   "pygments_lexer": "ipython3",
   "version": "3.7.3"
  }
 },
 "nbformat": 4,
 "nbformat_minor": 2
}
