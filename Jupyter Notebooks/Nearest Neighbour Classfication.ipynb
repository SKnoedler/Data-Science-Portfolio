{
 "cells": [
  {
   "cell_type": "code",
   "execution_count": 2,
   "metadata": {},
   "outputs": [],
   "source": [
    "#import libaries\n",
    "import numpy as np\n",
    "import matplotlib.pyplot as plt\n",
    "from sklearn.neighbors import KNeighborsClassifier\n",
    "from sklearn.metrics import accuracy_score\n",
    "from sklearn.model_selection import KFold\n",
    "from sklearn.model_selection import cross_val_score\n",
    "from sklearn import preprocessing"
   ]
  },
  {
   "cell_type": "code",
   "execution_count": 3,
   "metadata": {},
   "outputs": [],
   "source": [
    "#read in the data\n",
    "dataTrain = np.loadtxt('IDSWeedCropTrain.csv', delimiter=',')\n",
    "dataTest = np.loadtxt('IDSWeedCropTest.csv', delimiter=',')"
   ]
  },
  {
   "cell_type": "code",
   "execution_count": 4,
   "metadata": {},
   "outputs": [],
   "source": [
    "#split input variables and labels\n",
    "x_train = dataTrain[:, :-1]\n",
    "y_train = dataTrain[:, -1]\n",
    "x_test = dataTest[:, :-1]\n",
    "y_test = dataTest[:, -1]"
   ]
  },
  {
   "cell_type": "code",
   "execution_count": 5,
   "metadata": {},
   "outputs": [
    {
     "name": "stdout",
     "output_type": "stream",
     "text": [
      "train_accuracy:  1.0\n",
      "test_accuracy:  0.945993031358885\n",
      "\t\n"
     ]
    }
   ],
   "source": [
    "#Apply a nearest neighbor classi\f",
    "er (1-NN) to the data.\n",
    "\n",
    "#applying 1NN means k=1\n",
    "knn = KNeighborsClassifier(n_neighbors=1)\n",
    "\n",
    "#Train the model using the training sets\n",
    "knn.fit(x_train, y_train)\n",
    "\n",
    "#Compute accuracy on the training set\n",
    "train_accuracy = knn.score(x_train, y_train)\n",
    "print('train_accuracy: ', train_accuracy)\n",
    "\n",
    "#Compute accuracy on the test set\n",
    "test_accuracy = knn.score(x_test, y_test)\n",
    "print('test_accuracy: ', test_accuracy)\n",
    "\n",
    "print('\\t')"
   ]
  },
  {
   "cell_type": "code",
   "execution_count": 6,
   "metadata": {},
   "outputs": [],
   "source": [
    "#You are supposed fi\f",
    "nd a good value for k from {1; 3; 5; 7; 9; 11}. For\n",
    "#every choice of k, estimate the performance of the k-NN classi\f",
    "er using 5-fold cross-validation. Pick\n",
    "#the k with the lowest average 0-1 loss (classi\f",
    "fication error), which we will call kbest in the following.\n",
    "#Only use the training data in the cross-validation process to generate the folds."
   ]
  },
  {
   "cell_type": "code",
   "execution_count": 7,
   "metadata": {},
   "outputs": [
    {
     "name": "stdout",
     "output_type": "stream",
     "text": [
      "cv_scores [0.958009600240006, 0.9630146753668842, 0.957014675366884, 0.9510046251156279, 0.9440145753643842, 0.9440045751143777]\n",
      "Please see diagram\n"
     ]
    }
   ],
   "source": [
    "\n",
    "#list of k values from task description\n",
    "neighbors = [1, 3, 5, 7, 9, 11]\n",
    "\n",
    "#empty list that will hold cv scores\n",
    "cv_score = []\n",
    "\n",
    "#perform 5-fold cross validation for each k.\n",
    "for k in neighbors:\n",
    "    knn = KNeighborsClassifier(n_neighbors=k)\n",
    "    scores = cross_val_score(knn, x_train, y_train, cv=5, scoring='accuracy')\n",
    "    cv_score.append(scores.mean())\n",
    "\n",
    "print('cv_scores', cv_score)\n",
    "\n",
    "#changing to classification error as it was asked to pick the k with the lowest average 0-1 loss (classi\f",
    "cation error)\n",
    "CE = [1 - x for x in cv_score]\n",
    "\n",
    "print('Please see diagram')"
   ]
  },
  {
   "cell_type": "code",
   "execution_count": 8,
   "metadata": {},
   "outputs": [
    {
     "data": {
      "image/png": "[encoded data removed]",
      "text/plain": [
       "<Figure size 864x432 with 1 Axes>"
      ]
     },
     "metadata": {
      "needs_background": "light"
     },
     "output_type": "display_data"
    },
    {
     "name": "stdout",
     "output_type": "stream",
     "text": [
      "The diagram already reveals kbest as it shows which k has the lowest average 0-1 loss. However, this might not always be the best way to determine kbest as the results might be less clear with other data.\n",
      "\t\n",
      "I want to make this very clear in this assignment, so I provide the values and then select the k with the lowest Classification Error\n",
      "Classification Error:  [0.04199039975999397, 0.03698532463311577, 0.042985324633115995, 0.04899537488437211, 0.055985424635615844, 0.05599542488562226]\n"
     ]
    }
   ],
   "source": [
    "#creating a diagram that shows the average 0-1 loss (classi\f",
    "cation error) depending on the k value\n",
    "plt.figure(figsize=(12, 6))\n",
    "plt.plot(range(1, 13, 2), CE, color='red', linestyle='dashed', marker='o', markerfacecolor='blue', markersize=10) #change range to (1, 50, 2) if you use the odd list of k from 1 to 50 (line 57)\n",
    "plt.title('Error Rate depending on K Value (with Cross Validation)')\n",
    "plt.xlabel('K Value')\n",
    "plt.ylabel('Classification Error')\n",
    "plt.show()\n",
    "\n",
    "print('The diagram already reveals kbest as it shows which k has the lowest average 0-1 loss. However, this might not always be the best way to determine kbest as the results might be less clear with other data.')\n",
    "\n",
    "print('\\t')\n",
    "print('I want to make this very clear in this assignment, so I provide the values and then select the k with the lowest Classification Error')\n",
    "print('Classification Error: ', CE)"
   ]
  },
  {
   "cell_type": "code",
   "execution_count": 9,
   "metadata": {},
   "outputs": [
    {
     "name": "stdout",
     "output_type": "stream",
     "text": [
      "The k with the lowest average 0-1 loss (classi\f",
      "cation error) from k {1,3,5,7,9,11} (kbest) = 3\n",
      "\t\n"
     ]
    }
   ],
   "source": [
    "#Determining best k\n",
    "optimal_k = neighbors[CE.index(min(CE))]\n",
    "print(\"The k with the lowest average 0-1 loss (classi\f",
    "cation error) from k {1,3,5,7,9,11} (kbest) = %d\" % optimal_k)\n",
    "\n",
    "print('\\t')"
   ]
  },
  {
   "cell_type": "code",
   "execution_count": 10,
   "metadata": {},
   "outputs": [
    {
     "data": {
      "text/plain": [
       "KNeighborsClassifier(algorithm='auto', leaf_size=30, metric='minkowski',\n",
       "           metric_params=None, n_jobs=None, n_neighbors=3, p=2,\n",
       "           weights='uniform')"
      ]
     },
     "execution_count": 10,
     "metadata": {},
     "output_type": "execute_result"
    }
   ],
   "source": [
    "# estimate classifier performance on IDSWeedCropTest.csv: build a kbest-NN classi\f",
    "er using the complete training data set IDSWeedCropTrain.csv and evaluate\n",
    "# it on the independent test set IDSWeedCropTest.csv\n",
    "\n",
    "\n",
    "knn = KNeighborsClassifier(n_neighbors=3)\n",
    "\n",
    "#Fit the model\n",
    "knn.fit(x_train, y_train)\n"
   ]
  },
  {
   "cell_type": "code",
   "execution_count": 11,
   "metadata": {},
   "outputs": [
    {
     "name": "stdout",
     "output_type": "stream",
     "text": [
      "Train Accuracy of k=3:  0.971\n",
      "Test Accuracy of k=3:  0.9494773519163763\n",
      "\t\n"
     ]
    }
   ],
   "source": [
    "#Compute accuracy on the training set\n",
    "train_accuracy = knn.score(x_train, y_train)\n",
    "print('Train Accuracy of k=3: ', train_accuracy)\n",
    "\n",
    "#Compute accuracy on the test set\n",
    "test_accuracy = knn.score(x_test, y_test)\n",
    "print('Test Accuracy of k=3: ', test_accuracy)\n",
    "\n",
    "print('\\t')"
   ]
  },
  {
   "cell_type": "code",
   "execution_count": 12,
   "metadata": {},
   "outputs": [
    {
     "name": "stdout",
     "output_type": "stream",
     "text": [
      "train acc. 1.0\n",
      "test acc. 0.945993031358885\n",
      "train acc. 0.971\n",
      "test acc. 0.9494773519163763\n",
      "train acc. 0.967\n",
      "test acc. 0.945993031358885\n",
      "train acc. 0.96\n",
      "test acc. 0.9390243902439024\n",
      "train acc. 0.956\n",
      "test acc. 0.9407665505226481\n",
      "train acc. 0.953\n",
      "test acc. 0.9372822299651568\n"
     ]
    }
   ],
   "source": [
    "#Setup arrays to store training and test accuracies\n",
    "train_accuracy = np.empty(len(neighbors))\n",
    "test_accuracy = np.empty(len(neighbors))\n",
    "\n",
    "for i,k in enumerate(neighbors):\n",
    "    #Setup a knn classifier with k neighbors\n",
    "    knn = KNeighborsClassifier(n_neighbors=k)\n",
    "    #Fit the model\n",
    "    knn.fit(x_train, y_train)\n",
    "    #Compute accuracy on the training set\n",
    "    train_accuracy[i] = knn.score(x_train, y_train)\n",
    "    print('train acc.', train_accuracy[i])\n",
    "    #Compute accuracy on the test set\n",
    "    test_accuracy[i] = knn.score(x_test, y_test)\n",
    "    print('test acc.', test_accuracy[i])"
   ]
  },
  {
   "cell_type": "code",
   "execution_count": 13,
   "metadata": {},
   "outputs": [
    {
     "data": {
      "image/png": "[encoded data removed]",
      "text/plain": [
       "<Figure size 432x288 with 1 Axes>"
      ]
     },
     "metadata": {
      "needs_background": "light"
     },
     "output_type": "display_data"
    }
   ],
   "source": [
    "#Generate plot\n",
    "plt.title('k-NN Varying number of neighbors')\n",
    "plt.plot(neighbors, test_accuracy, label='Testing Accuracy')\n",
    "plt.plot(neighbors, train_accuracy, label='Training accuracy')\n",
    "plt.legend()\n",
    "plt.xlabel('Number of neighbors')\n",
    "plt.ylabel('Accuracy')\n",
    "plt.show()"
   ]
  },
  {
   "cell_type": "code",
   "execution_count": 14,
   "metadata": {},
   "outputs": [],
   "source": [
    "#Center and normalize the data and repeat the model selection and\n",
    "#classi\f",
    "cation process from Exercise 2 and Exercise 3.\n",
    "\n",
    "#choosing version1\n",
    "scaler = preprocessing.StandardScaler().fit(x_train)\n",
    "x_train_N = scaler.transform(x_train)\n",
    "x_test_N = scaler.transform(x_test)"
   ]
  },
  {
   "cell_type": "code",
   "execution_count": 15,
   "metadata": {},
   "outputs": [],
   "source": [
    "neighbors = [1, 3, 5, 7, 9, 11]\n",
    "\n",
    "# empty list that will hold cv scores\n",
    "cv_score = []\n",
    "\n",
    "# perform 10-fold cross validation\n",
    "for k in neighbors:\n",
    "    knn = KNeighborsClassifier(n_neighbors=k)\n",
    "    scores = cross_val_score(knn, x_train_N, y_train, cv=5, scoring='accuracy')\n",
    "    cv_score.append(scores.mean())\n"
   ]
  },
  {
   "cell_type": "code",
   "execution_count": 16,
   "metadata": {},
   "outputs": [
    {
     "name": "stdout",
     "output_type": "stream",
     "text": [
      "Classification error:  [0.03997537438435972, 0.035990249756243875, 0.04199024975624399, 0.04498527463186586, 0.046990299757493914, 0.05099029975749381]\n",
      "The optimal number of neighbors is 3\n",
      "Train and Test Accuracy when choosing k = 3 on the normalzed data\n"
     ]
    }
   ],
   "source": [
    "# changing to misclassification error\n",
    "MSE = [1 - x for x in cv_score]\n",
    "print('Classification error: ', MSE)\n",
    "\n",
    "# determining best k\n",
    "optimal_k = neighbors[MSE.index(min(MSE))]\n",
    "print(\"The optimal number of neighbors is %d\" % optimal_k)\n",
    "\n",
    "print('Train and Test Accuracy when choosing k = 3 on the normalzed data')"
   ]
  },
  {
   "cell_type": "code",
   "execution_count": 17,
   "metadata": {},
   "outputs": [
    {
     "name": "stdout",
     "output_type": "stream",
     "text": [
      "Train Accuracy of k=3 after normalization:  0.972\n"
     ]
    }
   ],
   "source": [
    "knn = KNeighborsClassifier(n_neighbors=3)\n",
    "\n",
    "#Fit the model\n",
    "knn.fit(x_train_N, y_train)\n",
    "\n",
    "#Compute accuracy on the training set\n",
    "train_accuracy_N = knn.score(x_train_N, y_train)\n",
    "print('Train Accuracy of k=3 after normalization: ', train_accuracy_N)"
   ]
  },
  {
   "cell_type": "code",
   "execution_count": 18,
   "metadata": {},
   "outputs": [
    {
     "name": "stdout",
     "output_type": "stream",
     "text": [
      "Test Accuracy of k=3 after normallization:  0.9599303135888502\n"
     ]
    }
   ],
   "source": [
    "#Compute accuracy on the test set\n",
    "test_accuracy_N = knn.score(x_test_N, y_test)\n",
    "print('Test Accuracy of k=3 after normallization: ', test_accuracy_N)"
   ]
  }
 ],
 "metadata": {
  "kernelspec": {
   "display_name": "Python 3",
   "language": "python",
   "name": "python3"
  },
  "language_info": {
   "codemirror_mode": {
    "name": "ipython",
    "version": 3
   },
   "file_extension": ".py",
   "mimetype": "text/x-python",
   "name": "python",
   "nbconvert_exporter": "python",
   "pygments_lexer": "ipython3",
   "version": "3.7.1"
  }
 },
 "nbformat": 4,
 "nbformat_minor": 2
}
