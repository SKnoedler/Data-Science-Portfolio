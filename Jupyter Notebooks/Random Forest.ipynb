{
 "cells": [
  {
   "cell_type": "code",
   "execution_count": 1,
   "metadata": {},
   "outputs": [],
   "source": [
    "from math import sqrt\n",
    "import numpy as np\n",
    "import matplotlib\n",
    "import matplotlib.pyplot as plt\n",
    "from sklearn.linear_model import LinearRegression\n",
    "from sklearn.metrics import accuracy_score\n",
    "from sklearn.ensemble import RandomForestClassifier"
   ]
  },
  {
   "cell_type": "code",
   "execution_count": 2,
   "metadata": {},
   "outputs": [],
   "source": [
    "weedcroptrain = np.loadtxt('IDSWeedCropTrain.csv', delimiter=',')\n",
    "weedcroptest = np.loadtxt('IDSWeedCropTest.csv', delimiter=',')\n",
    "\n",
    "# Input for prediction\n",
    "xtrain_weedcrop = weedcroptrain[:, :-1]\n",
    "\n",
    "# train target input for prediction\n",
    "ytrain_weedcrop = weedcroptrain[:, -1]"
   ]
  },
  {
   "cell_type": "code",
   "execution_count": 3,
   "metadata": {},
   "outputs": [
    {
     "data": {
      "text/plain": [
       "RandomForestClassifier(bootstrap=True, class_weight=None, criterion='gini',\n",
       "            max_depth=None, max_features='auto', max_leaf_nodes=None,\n",
       "            min_impurity_decrease=0.0, min_impurity_split=None,\n",
       "            min_samples_leaf=1, min_samples_split=2,\n",
       "            min_weight_fraction_leaf=0.0, n_estimators=50, n_jobs=None,\n",
       "            oob_score=False, random_state=None, verbose=0,\n",
       "            warm_start=False)"
      ]
     },
     "execution_count": 3,
     "metadata": {},
     "output_type": "execute_result"
    }
   ],
   "source": [
    "xtest_weedcrop = weedcroptest[:,:-1]\n",
    "ytest_weedcrop = weedcroptest[:,-1]\n",
    "\n",
    "# init. random forest algorithm and fit to training data\n",
    "RandomForest = RandomForestClassifier(n_estimators=50)\n",
    "RandomForest.fit(xtrain_weedcrop, ytrain_weedcrop)"
   ]
  },
  {
   "cell_type": "code",
   "execution_count": 4,
   "metadata": {},
   "outputs": [],
   "source": [
    "# Make Prediction\n",
    "ypred_weedcrop = RandomForest.predict(xtest_weedcrop)"
   ]
  },
  {
   "cell_type": "code",
   "execution_count": 5,
   "metadata": {},
   "outputs": [
    {
     "name": "stdout",
     "output_type": "stream",
     "text": [
      "Prediction accuracy of the random forest:  0.9703832752613241\n"
     ]
    }
   ],
   "source": [
    "# find out accuracy of prediction\n",
    "ypred_accuracy = accuracy_score(ytest_weedcrop, ypred_weedcrop)\n",
    "print('Prediction accuracy of the random forest: ', ypred_accuracy)"
   ]
  },
  {
   "cell_type": "code",
   "execution_count": null,
   "metadata": {},
   "outputs": [],
   "source": []
  }
 ],
 "metadata": {
  "kernelspec": {
   "display_name": "Python 3",
   "language": "python",
   "name": "python3"
  },
  "language_info": {
   "codemirror_mode": {
    "name": "ipython",
    "version": 3
   },
   "file_extension": ".py",
   "mimetype": "text/x-python",
   "name": "python",
   "nbconvert_exporter": "python",
   "pygments_lexer": "ipython3",
   "version": "3.7.1"
  }
 },
 "nbformat": 4,
 "nbformat_minor": 2
}
